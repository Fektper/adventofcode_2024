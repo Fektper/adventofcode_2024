{
 "cells": [
  {
   "cell_type": "markdown",
   "metadata": {},
   "source": [
    "#### Task 1"
   ]
  },
  {
   "cell_type": "code",
   "execution_count": 28,
   "metadata": {},
   "outputs": [],
   "source": [
    "from dataclasses import dataclass\n",
    "\n",
    "@dataclass\n",
    "class Plot:\n",
    "    value: str\n",
    "    seen: bool = False"
   ]
  },
  {
   "cell_type": "code",
   "execution_count": 30,
   "metadata": {},
   "outputs": [],
   "source": [
    "field = []\n",
    "with open(\"input.txt\", \"r\") as in_file:\n",
    "    for line in in_file.readlines():\n",
    "        line = line.strip()\n",
    "        if len(line) >= 1:\n",
    "            field.append(list(map(lambda x: Plot(x), line)))"
   ]
  },
  {
   "cell_type": "code",
   "execution_count": 31,
   "metadata": {},
   "outputs": [],
   "source": [
    "def in_range(pos, field):\n",
    "    if pos[0] < 0 or pos[0] >= len(field[0]):\n",
    "        return False\n",
    "    if pos[1] < 0 or pos[1] >= len(field):\n",
    "        return False\n",
    "    return True\n",
    "\n",
    "def get_value(pos, field):\n",
    "    return field[pos[1]][pos[0]].value\n",
    "\n",
    "def all_neighbours(pos):\n",
    "    return [(x+pos[0], pos[1]) for x in [-1, 1]] + [(pos[0], y+pos[1]) for y in [-1, 1]]\n",
    "\n",
    "def valid_neighbours(pos, field):\n",
    "    candidates = [(x+pos[0], pos[1]) for x in [-1, 1]] + [(pos[0], y+pos[1]) for y in [-1, 1]]\n",
    "    return [x for x in candidates if in_range(x, field)]\n",
    "\n",
    "def get_region(start_pos, field):\n",
    "    queue = [start_pos]\n",
    "    elements = []\n",
    "    while len(queue) > 0:\n",
    "        next = queue.pop()\n",
    "        elements.append(next)\n",
    "        for neighbour in valid_neighbours(next, field):\n",
    "            if get_value(neighbour, field) == get_value(start_pos, field) and not neighbour in queue and not neighbour in elements:\n",
    "                queue.append(neighbour)\n",
    "\n",
    "    return elements\n",
    "\n",
    "def get_region_value(region: list[tuple[int, int]]):\n",
    "    area = len(region)\n",
    "    perimeter = 0\n",
    "    for pos in region:\n",
    "        for neighbour in all_neighbours(pos):\n",
    "            if not neighbour in region:\n",
    "                perimeter += 1\n",
    "    return area * perimeter"
   ]
  },
  {
   "cell_type": "code",
   "execution_count": 32,
   "metadata": {},
   "outputs": [
    {
     "name": "stdout",
     "output_type": "stream",
     "text": [
      "1930\n"
     ]
    }
   ],
   "source": [
    "all_regions = []\n",
    "for x in range(len(field[0])):\n",
    "    for y in range(len(field)):\n",
    "        if not field[y][x].seen:\n",
    "            reg = get_region((x, y), field)\n",
    "            all_regions.append(reg)\n",
    "            for pos in reg:\n",
    "                field[pos[1]][pos[0]].seen = True\n",
    "\n",
    "total = 0\n",
    "for reg in all_regions:\n",
    "    total += get_region_value(reg)\n",
    "\n",
    "print(total)"
   ]
  },
  {
   "cell_type": "markdown",
   "metadata": {},
   "source": [
    "#### Task 2"
   ]
  },
  {
   "cell_type": "code",
   "execution_count": 36,
   "metadata": {},
   "outputs": [],
   "source": [
    "def build_group(groups: list[tuple[int, int]]):\n",
    "    previous_len = 0\n",
    "    while previous_len != len(groups):\n",
    "        previous_len = len(groups)\n",
    "        next_groups = []\n",
    "        while len(groups) > 0:\n",
    "            is_neighbouring = False\n",
    "            for i in range(1, len(groups)):\n",
    "                for ele in groups[0]:\n",
    "                    for neighbour in all_neighbours(ele):\n",
    "                        if neighbour in groups[i]:\n",
    "                            is_neighbouring = True\n",
    "                            next_groups.append(groups[0] + groups[i])\n",
    "                            groups.pop(i)\n",
    "                            groups.pop(0)\n",
    "                            break\n",
    "                    if is_neighbouring:\n",
    "                        break\n",
    "                if is_neighbouring:\n",
    "                    break\n",
    "\n",
    "            if not is_neighbouring:\n",
    "                next_groups.append(groups.pop(0))\n",
    "\n",
    "\n",
    "        groups = next_groups\n",
    "\n",
    "    return groups\n",
    "\n",
    "def get_side_amount(region: list[tuple[int, int]]) -> int:\n",
    "    min_x = min(x[0] for x in region)\n",
    "    max_x = max(x[0] for x in region)\n",
    "    min_y = min(x[1] for x in region)\n",
    "    max_y = max(x[1] for x in region)\n",
    "    side_amount = 0\n",
    "    for y in range(min_y, max_y+1):\n",
    "        in_this_row = [x for x in region if x[1] == y]\n",
    "        has_top_border = [[x] for x in in_this_row if not (x[0], x[1] - 1) in region]\n",
    "        has_bot_border = [[x] for x in in_this_row if not (x[0], x[1] + 1) in region]\n",
    "\n",
    "        side_amount += len(build_group(has_top_border)) + len(build_group(has_bot_border))\n",
    "\n",
    "    for x in range(min_x, max_x + 1):\n",
    "        in_this_col = [i for i in region if i[0] == x]\n",
    "        has_left_border = [[i] for i in in_this_col if not (i[0] -1, i[1]) in region]\n",
    "        has_right_border = [[i] for i in in_this_col if not (i[0] +1, i[1]) in region]\n",
    "\n",
    "        side_amount += len(build_group(has_left_border)) + len(build_group(has_right_border))\n",
    "\n",
    "    return side_amount\n",
    "\n",
    "def get_region_value_sides(region):\n",
    "    return len(region) * get_side_amount(region)"
   ]
  },
  {
   "cell_type": "code",
   "execution_count": 37,
   "metadata": {},
   "outputs": [
    {
     "name": "stdout",
     "output_type": "stream",
     "text": [
      "1206\n"
     ]
    }
   ],
   "source": [
    "total = 0\n",
    "for reg in all_regions:\n",
    "    total += get_region_value_sides(reg)\n",
    "\n",
    "print(total)"
   ]
  }
 ],
 "metadata": {
  "kernelspec": {
   "display_name": "Python 3",
   "language": "python",
   "name": "python3"
  },
  "language_info": {
   "codemirror_mode": {
    "name": "ipython",
    "version": 3
   },
   "file_extension": ".py",
   "mimetype": "text/x-python",
   "name": "python",
   "nbconvert_exporter": "python",
   "pygments_lexer": "ipython3",
   "version": "3.10.2"
  }
 },
 "nbformat": 4,
 "nbformat_minor": 2
}
