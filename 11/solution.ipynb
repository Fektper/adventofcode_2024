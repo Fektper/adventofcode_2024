{
 "cells": [
  {
   "cell_type": "markdown",
   "metadata": {},
   "source": [
    "#### Task 1"
   ]
  },
  {
   "cell_type": "code",
   "execution_count": 1,
   "metadata": {},
   "outputs": [],
   "source": [
    "stones = []\n",
    "with open(\"input.txt\", \"r\") as in_file:\n",
    "    stones = list(map(lambda x: int(x), in_file.readline().strip().split(\" \")))"
   ]
  },
  {
   "cell_type": "code",
   "execution_count": 2,
   "metadata": {},
   "outputs": [],
   "source": [
    "def digit_num(val: int) -> int:\n",
    "    return len(str(val))\n",
    "\n",
    "def split_even(val: int) -> tuple[int, int]:\n",
    "    original = str(val)\n",
    "    left = int(original[:len(original) // 2])\n",
    "    right = int(original[len(original) // 2:])\n",
    "    return left, right\n",
    "\n",
    "def simple_blink_step(stones: list[int]) -> list[int]:\n",
    "    res = []\n",
    "    for stone in stones:\n",
    "        if stone == 0:\n",
    "            res.append(1)\n",
    "        elif digit_num(stone) % 2 == 0:\n",
    "            l, r = split_even(stone)\n",
    "            res.append(l)\n",
    "            res.append(r)\n",
    "        else:\n",
    "            res.append(stone * 2024)\n",
    "\n",
    "    return res"
   ]
  },
  {
   "cell_type": "code",
   "execution_count": 3,
   "metadata": {},
   "outputs": [
    {
     "name": "stdout",
     "output_type": "stream",
     "text": [
      "24\n",
      "202019\n"
     ]
    }
   ],
   "source": [
    "num_blinks = 25\n",
    "for i in range(num_blinks):\n",
    "    print(f\"\\r{i}\", end=\"\")\n",
    "    stones = simple_blink_step(stones)\n",
    "\n",
    "print(\"\\n\" + str(len(stones)))"
   ]
  },
  {
   "cell_type": "markdown",
   "metadata": {},
   "source": [
    "#### Task 2"
   ]
  },
  {
   "cell_type": "code",
   "execution_count": 4,
   "metadata": {},
   "outputs": [],
   "source": [
    "stones = []\n",
    "with open(\"input.txt\", \"r\") as in_file:\n",
    "    stones = list(map(lambda x: int(x), in_file.readline().strip().split(\" \")))"
   ]
  },
  {
   "cell_type": "code",
   "execution_count": 5,
   "metadata": {},
   "outputs": [],
   "source": [
    "lookup_list = []\n",
    "result_list = [[None for i in range(76)] for j in range(1001)]\n",
    "\n",
    "for i in range(1001):\n",
    "    lookup_list.append(simple_blink_step([i]))\n",
    "\n",
    "def speedy_blink_step(stone: int, blinks: int) -> int:\n",
    "    if blinks == 0:\n",
    "        return 1\n",
    "    if stone <= 1000:\n",
    "        if result_list[stone][blinks] == None:\n",
    "            total = sum([speedy_blink_step(x, blinks-1) for x in lookup_list[stone]])\n",
    "            result_list[stone][blinks] = total\n",
    "            return total\n",
    "            # dings\n",
    "        else:\n",
    "            return result_list[stone][blinks]\n",
    "\n",
    "    # Useless, since 0 <= 1000    \n",
    "    # if stone == 0:\n",
    "    #     return speedy_blink_step(1, blinks -1)\n",
    "    \n",
    "    if digit_num(stone) % 2 == 0:\n",
    "        l, r = split_even(stone)\n",
    "        return speedy_blink_step(l, blinks-1) + speedy_blink_step(r, blinks-1)\n",
    "    else:\n",
    "        return speedy_blink_step(stone*2024, blinks-1)\n",
    "        "
   ]
  },
  {
   "cell_type": "code",
   "execution_count": 6,
   "metadata": {},
   "outputs": [
    {
     "name": "stdout",
     "output_type": "stream",
     "text": [
      "239321955280205\n"
     ]
    }
   ],
   "source": [
    "blink_num = 75\n",
    "total = 0\n",
    "\n",
    "for stone in stones:\n",
    "    total += speedy_blink_step(stone, blink_num)\n",
    "\n",
    "print(total)"
   ]
  }
 ],
 "metadata": {
  "kernelspec": {
   "display_name": "Python 3",
   "language": "python",
   "name": "python3"
  },
  "language_info": {
   "codemirror_mode": {
    "name": "ipython",
    "version": 3
   },
   "file_extension": ".py",
   "mimetype": "text/x-python",
   "name": "python",
   "nbconvert_exporter": "python",
   "pygments_lexer": "ipython3",
   "version": "3.10.2"
  }
 },
 "nbformat": 4,
 "nbformat_minor": 2
}
