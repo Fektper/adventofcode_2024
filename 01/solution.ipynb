{
 "cells": [
  {
   "cell_type": "markdown",
   "metadata": {},
   "source": [
    "#### Task 1"
   ]
  },
  {
   "cell_type": "code",
   "execution_count": 4,
   "metadata": {},
   "outputs": [],
   "source": [
    "list1 = []\n",
    "list2 = []\n",
    "\n",
    "with open(\"input_task1.txt\", \"r\") as input_file:\n",
    "    for line in input_file.readlines():\n",
    "        a, b = line.split(\"   \")\n",
    "        list1.append(int(a))\n",
    "        list2.append(int(b))\n",
    "\n",
    "list1.sort()\n",
    "list2.sort()"
   ]
  },
  {
   "cell_type": "code",
   "execution_count": 6,
   "metadata": {},
   "outputs": [
    {
     "name": "stdout",
     "output_type": "stream",
     "text": [
      "1765812\n"
     ]
    }
   ],
   "source": [
    "diff = 0\n",
    "for i in range(0, min(len(list1), len(list2))):\n",
    "    diff += abs(list1[i] - list2[i])\n",
    "\n",
    "print(diff)"
   ]
  },
  {
   "cell_type": "markdown",
   "metadata": {},
   "source": [
    "#### Task 2"
   ]
  },
  {
   "cell_type": "code",
   "execution_count": 7,
   "metadata": {},
   "outputs": [
    {
     "name": "stdout",
     "output_type": "stream",
     "text": [
      "20520794\n"
     ]
    }
   ],
   "source": [
    "sim_score = 0\n",
    "for i in list1:\n",
    "    count = 0\n",
    "    for j in list2:\n",
    "        if i == j:\n",
    "            count += 1\n",
    "\n",
    "    sim_score += count * i\n",
    "\n",
    "print(sim_score)"
   ]
  }
 ],
 "metadata": {
  "kernelspec": {
   "display_name": "Python 3",
   "language": "python",
   "name": "python3"
  },
  "language_info": {
   "codemirror_mode": {
    "name": "ipython",
    "version": 3
   },
   "file_extension": ".py",
   "mimetype": "text/x-python",
   "name": "python",
   "nbconvert_exporter": "python",
   "pygments_lexer": "ipython3",
   "version": "3.10.2"
  }
 },
 "nbformat": 4,
 "nbformat_minor": 2
}
