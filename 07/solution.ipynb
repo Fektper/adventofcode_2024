{
 "cells": [
  {
   "cell_type": "markdown",
   "metadata": {},
   "source": [
    "#### Task 1"
   ]
  },
  {
   "cell_type": "code",
   "execution_count": 15,
   "metadata": {},
   "outputs": [
    {
     "name": "stdout",
     "output_type": "stream",
     "text": [
      "[[173208328696, [3, 2, 9, 4, 8, 6, 796, 23, 8, 5, 3, 9]], [195319, [5, 44, 8, 71, 124, 2, 967, 38]], [9382, [840, 634, 28, 2, 53, 4, 1, 6, 9]], [1050614, [87, 7, 173, 61, 4]], [46769533, [668, 7, 86, 86, 850]]]\n"
     ]
    }
   ],
   "source": [
    "input_lines = []\n",
    "with open(\"input.txt\", \"r\") as in_file:\n",
    "    for line in in_file.readlines():\n",
    "        split = line.split(\": \")\n",
    "        res = int(split[0])\n",
    "        parts = list(map(lambda x: int(x), split[1].split(\" \")))\n",
    "        input_lines.append([res, parts])\n",
    "\n",
    "print(input_lines[:5])"
   ]
  },
  {
   "cell_type": "code",
   "execution_count": 16,
   "metadata": {},
   "outputs": [],
   "source": [
    "def valid_solution_exists(target, parts, temp):\n",
    "    if temp > target:\n",
    "        return False\n",
    "    if len(parts) == 0:\n",
    "        if temp == target:\n",
    "            return True\n",
    "        else:\n",
    "            return False\n",
    "        \n",
    "    return valid_solution_exists(target, parts[1:], temp*parts[0]) or valid_solution_exists(target, parts[1:], temp+parts[0])"
   ]
  },
  {
   "cell_type": "code",
   "execution_count": 17,
   "metadata": {},
   "outputs": [
    {
     "name": "stdout",
     "output_type": "stream",
     "text": [
      "945512582195\n"
     ]
    }
   ],
   "source": [
    "total_valid_sum = 0\n",
    "for line in input_lines:\n",
    "    if valid_solution_exists(line[0], line[1][1:], line[1][0]):\n",
    "        total_valid_sum += line[0]\n",
    "\n",
    "print(total_valid_sum)"
   ]
  },
  {
   "cell_type": "markdown",
   "metadata": {},
   "source": [
    "#### Task 2"
   ]
  },
  {
   "cell_type": "code",
   "execution_count": 18,
   "metadata": {},
   "outputs": [],
   "source": [
    "def valid_solution_exists(target, parts, temp):\n",
    "    if temp > target:\n",
    "        return False\n",
    "    if len(parts) == 0:\n",
    "        if temp == target:\n",
    "            return True\n",
    "        else:\n",
    "            return False\n",
    "        \n",
    "    return valid_solution_exists(target, parts[1:], temp*parts[0]) or valid_solution_exists(target, parts[1:], temp+parts[0]) or valid_solution_exists(target, parts[1:], int(str(temp) + str(parts[0])))"
   ]
  },
  {
   "cell_type": "code",
   "execution_count": 19,
   "metadata": {},
   "outputs": [
    {
     "name": "stdout",
     "output_type": "stream",
     "text": [
      "271691107779347\n"
     ]
    }
   ],
   "source": [
    "total_valid_sum = 0\n",
    "for line in input_lines:\n",
    "    if valid_solution_exists(line[0], line[1][1:], line[1][0]):\n",
    "        total_valid_sum += line[0]\n",
    "\n",
    "print(total_valid_sum)"
   ]
  }
 ],
 "metadata": {
  "kernelspec": {
   "display_name": "venv",
   "language": "python",
   "name": "python3"
  },
  "language_info": {
   "codemirror_mode": {
    "name": "ipython",
    "version": 3
   },
   "file_extension": ".py",
   "mimetype": "text/x-python",
   "name": "python",
   "nbconvert_exporter": "python",
   "pygments_lexer": "ipython3",
   "version": "3.12.3"
  }
 },
 "nbformat": 4,
 "nbformat_minor": 2
}
