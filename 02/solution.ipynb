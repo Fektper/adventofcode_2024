{
 "cells": [
  {
   "cell_type": "markdown",
   "metadata": {},
   "source": [
    "#### Task1"
   ]
  },
  {
   "cell_type": "code",
   "execution_count": 1,
   "metadata": {},
   "outputs": [
    {
     "name": "stdout",
     "output_type": "stream",
     "text": [
      "[25, 26, 29, 30, 32, 35, 37, 35]\n",
      "[15, 16, 17, 20, 22, 24, 26, 26]\n"
     ]
    }
   ],
   "source": [
    "reports = []\n",
    "\n",
    "with open(\"input_task1.txt\", \"r\") as reports_file:\n",
    "    for line in reports_file.readlines():\n",
    "        reports.append(list(map(lambda x: int(x), line.split(\" \"))))\n",
    "\n",
    "print(reports[0])\n",
    "print(reports[1])"
   ]
  },
  {
   "cell_type": "code",
   "execution_count": 2,
   "metadata": {},
   "outputs": [],
   "source": [
    "def is_safe(report):\n",
    "    changes = [report[i] - report[i-1] for i in range(1, len(report))]\n",
    "    max_change = max(map(lambda x: abs(x), changes))\n",
    "    if max_change > 3:\n",
    "        return False\n",
    "    \n",
    "    if all(map(lambda x: x >=1, changes)):\n",
    "        return True\n",
    "    if all(map(lambda x: x <=-1, changes)):\n",
    "        return True\n",
    "    return False"
   ]
  },
  {
   "cell_type": "code",
   "execution_count": 4,
   "metadata": {},
   "outputs": [
    {
     "name": "stdout",
     "output_type": "stream",
     "text": [
      "356\n"
     ]
    }
   ],
   "source": [
    "safe_count = 0\n",
    "for report in reports:\n",
    "    if is_safe(report):\n",
    "        safe_count += 1\n",
    "\n",
    "print(safe_count)"
   ]
  },
  {
   "cell_type": "markdown",
   "metadata": {},
   "source": [
    "#### Task2"
   ]
  },
  {
   "cell_type": "code",
   "execution_count": 11,
   "metadata": {},
   "outputs": [
    {
     "data": {
      "text/plain": [
       "[1, 2, 3]"
      ]
     },
     "execution_count": 11,
     "metadata": {},
     "output_type": "execute_result"
    }
   ],
   "source": [
    "test = [1, 2, 3]\n",
    "test[:3] + test[2+1:]"
   ]
  },
  {
   "cell_type": "code",
   "execution_count": 12,
   "metadata": {},
   "outputs": [],
   "source": [
    "def all_1miss_permutations(report):\n",
    "    return [report[:i] + report[i+1:] for i in range(len(report))]"
   ]
  },
  {
   "cell_type": "code",
   "execution_count": 13,
   "metadata": {},
   "outputs": [
    {
     "name": "stdout",
     "output_type": "stream",
     "text": [
      "413\n"
     ]
    }
   ],
   "source": [
    "safe_count = 0\n",
    "for report in reports:\n",
    "    if is_safe(report):\n",
    "        safe_count += 1\n",
    "    else:\n",
    "        if any([is_safe(x) for x in all_1miss_permutations(report)]):\n",
    "            safe_count += 1\n",
    "print(safe_count)"
   ]
  }
 ],
 "metadata": {
  "kernelspec": {
   "display_name": "Python 3",
   "language": "python",
   "name": "python3"
  },
  "language_info": {
   "codemirror_mode": {
    "name": "ipython",
    "version": 3
   },
   "file_extension": ".py",
   "mimetype": "text/x-python",
   "name": "python",
   "nbconvert_exporter": "python",
   "pygments_lexer": "ipython3",
   "version": "3.10.2"
  }
 },
 "nbformat": 4,
 "nbformat_minor": 2
}
