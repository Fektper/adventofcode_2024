{
 "cells": [
  {
   "cell_type": "markdown",
   "metadata": {},
   "source": [
    "#### Task 1"
   ]
  },
  {
   "cell_type": "code",
   "execution_count": 31,
   "metadata": {},
   "outputs": [
    {
     "name": "stdout",
     "output_type": "stream",
     "text": [
      "1176\n",
      "204\n"
     ]
    }
   ],
   "source": [
    "rules = []\n",
    "print_orders = []\n",
    "\n",
    "with open(\"real_input.txt\", \"r\") as in_file:\n",
    "    for line in in_file.readlines():\n",
    "        if \"|\" in line:\n",
    "            rules.append(list(map(lambda x: int(x), line.split(\"|\"))))\n",
    "        elif \",\" in line:\n",
    "            print_orders.append(list(map(lambda x: int(x), line.split(\",\"))))\n",
    "\n",
    "print(len(rules))\n",
    "print(len(print_orders))"
   ]
  },
  {
   "cell_type": "code",
   "execution_count": 32,
   "metadata": {},
   "outputs": [],
   "source": [
    "def follows_rule(order: list[int], rule: list[int]):\n",
    "    a, b = rule[0], rule[1]\n",
    "    if a in order and b in order:\n",
    "        return order.index(a) < order.index(b)\n",
    "\n",
    "    return True"
   ]
  },
  {
   "cell_type": "code",
   "execution_count": 33,
   "metadata": {},
   "outputs": [
    {
     "name": "stdout",
     "output_type": "stream",
     "text": [
      "5108\n"
     ]
    }
   ],
   "source": [
    "median_sum = 0\n",
    "for order in print_orders:\n",
    "    valid = True\n",
    "    for rule in rules:\n",
    "        if not follows_rule(order, rule):\n",
    "            valid = False\n",
    "            break\n",
    "\n",
    "    if valid:\n",
    "        median = order[len(order) // 2]\n",
    "        median_sum += median\n",
    "\n",
    "\n",
    "print(median_sum)"
   ]
  },
  {
   "cell_type": "markdown",
   "metadata": {},
   "source": [
    "#### Task 2"
   ]
  },
  {
   "cell_type": "code",
   "execution_count": 34,
   "metadata": {},
   "outputs": [
    {
     "name": "stdout",
     "output_type": "stream",
     "text": [
      "7380\n"
     ]
    }
   ],
   "source": [
    "median_sum = 0\n",
    "for order in print_orders:\n",
    "    valid = True\n",
    "    for rule in rules:\n",
    "        if not follows_rule(order, rule):\n",
    "            valid = False\n",
    "            break\n",
    "\n",
    "    if valid:\n",
    "        continue\n",
    "\n",
    "    while True:\n",
    "        valid = True\n",
    "        for rule in rules:\n",
    "            if not follows_rule(order, rule):\n",
    "                # swap\n",
    "                a = rule[0]\n",
    "                b = rule[1]\n",
    "                i = order.index(a)\n",
    "                j = order.index(b)\n",
    "                order[i] = b\n",
    "                order[j] = a\n",
    "\n",
    "                valid = False\n",
    "                break\n",
    "\n",
    "        if valid:\n",
    "            break\n",
    "\n",
    "    median_sum += order[len(order) // 2]\n",
    "\n",
    "\n",
    "\n",
    "print(median_sum)"
   ]
  },
  {
   "cell_type": "code",
   "execution_count": null,
   "metadata": {},
   "outputs": [],
   "source": []
  }
 ],
 "metadata": {
  "kernelspec": {
   "display_name": "Python 3",
   "language": "python",
   "name": "python3"
  },
  "language_info": {
   "codemirror_mode": {
    "name": "ipython",
    "version": 3
   },
   "file_extension": ".py",
   "mimetype": "text/x-python",
   "name": "python",
   "nbconvert_exporter": "python",
   "pygments_lexer": "ipython3",
   "version": "3.10.2"
  }
 },
 "nbformat": 4,
 "nbformat_minor": 2
}
