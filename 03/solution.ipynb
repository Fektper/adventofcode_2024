{
 "cells": [
  {
   "cell_type": "markdown",
   "metadata": {},
   "source": [
    "#### Task1"
   ]
  },
  {
   "cell_type": "code",
   "execution_count": 3,
   "metadata": {},
   "outputs": [],
   "source": [
    "import re\n",
    "memory_string = open(\"input_task1.txt\", \"r\").read()\n"
   ]
  },
  {
   "cell_type": "code",
   "execution_count": 4,
   "metadata": {},
   "outputs": [
    {
     "name": "stdout",
     "output_type": "stream",
     "text": [
      "159892596\n"
     ]
    }
   ],
   "source": [
    "total_mul_sum = 0\n",
    "\n",
    "for match in re.findall(\"mul\\(\\d+,\\d+\\)\", memory_string):\n",
    "    match:str = match.removeprefix(\"mul(\").removesuffix(\")\")\n",
    "    match = match.split(\",\")\n",
    "    a = int(match[0])\n",
    "    b = int(match[1])\n",
    "    total_mul_sum += a*b\n",
    "\n",
    "print(total_mul_sum)"
   ]
  },
  {
   "cell_type": "markdown",
   "metadata": {},
   "source": [
    "#### Taks2"
   ]
  },
  {
   "cell_type": "code",
   "execution_count": 5,
   "metadata": {},
   "outputs": [],
   "source": [
    "def do_or_dont(i, do_indices, dont_indices):\n",
    "    do = min([i-x for x in do_indices if x < i])\n",
    "    dont = min([i-x for x in dont_indices if x < i])\n",
    "    return do < dont\n",
    "    min_do = i + 1\n",
    "    min_dont = i + 1\n",
    "\n",
    "    for j in do_indices:\n",
    "        if i-j >= 0:\n",
    "            min_do = i-j\n",
    "        else:\n",
    "            break\n",
    "    \n",
    "    for j in dont_indices:\n",
    "        if i-j > 0:\n",
    "            min_dont = i-j\n",
    "        else:\n",
    "            break\n",
    "\n",
    "    return min_do < min_dont\n",
    "    "
   ]
  },
  {
   "cell_type": "code",
   "execution_count": 6,
   "metadata": {},
   "outputs": [],
   "source": [
    "dont_indices = [-1]\n",
    "do_indices = [0]\n",
    "working_string = memory_string\n",
    "index_sum = 0\n",
    "while True:\n",
    "    try:\n",
    "        i = working_string.index(\"don't()\")\n",
    "        dont_indices.append(index_sum + i)\n",
    "        working_string = working_string[i+1:]\n",
    "        index_sum = index_sum + i\n",
    "    except:\n",
    "        break\n",
    "\n",
    "working_string = memory_string\n",
    "index_sum = 0\n",
    "while True:\n",
    "    try:\n",
    "        i = working_string.index(\"do()\")\n",
    "        do_indices.append(index_sum + i)\n",
    "        working_string = working_string[i+1:]\n",
    "        index_sum = index_sum + i\n",
    "    except:\n",
    "        break"
   ]
  },
  {
   "cell_type": "code",
   "execution_count": 7,
   "metadata": {},
   "outputs": [
    {
     "name": "stdout",
     "output_type": "stream",
     "text": [
      "93015231\n"
     ]
    }
   ],
   "source": [
    "total_mul_sum = 0\n",
    "for match in re.finditer(\"mul\\(\\d+,\\d+\\)\", memory_string):\n",
    "    i = match.start()\n",
    "    int_list = match.group(0).removeprefix(\"mul(\").removesuffix(\")\").split(\",\")\n",
    "    a, b = int(int_list[0]), int(int_list[1])\n",
    "    if a>=1000 or b >= 1000:\n",
    "        continue\n",
    "    if do_or_dont(i, do_indices, dont_indices):\n",
    "        total_mul_sum += a*b\n",
    "\n",
    "print(total_mul_sum)"
   ]
  },
  {
   "cell_type": "markdown",
   "metadata": {},
   "source": [
    "#### Alternative try"
   ]
  },
  {
   "cell_type": "code",
   "execution_count": 18,
   "metadata": {},
   "outputs": [
    {
     "name": "stdout",
     "output_type": "stream",
     "text": [
      "['454', '153']\n"
     ]
    }
   ],
   "source": [
    "match_list = mul_match.group(0).removeprefix(\"mul(\").removesuffix(\")\").split(\",\")\n",
    "print(match_list)"
   ]
  },
  {
   "cell_type": "code",
   "execution_count": 22,
   "metadata": {},
   "outputs": [
    {
     "name": "stdout",
     "output_type": "stream",
     "text": [
      "13513\n",
      "92626942\n"
     ]
    }
   ],
   "source": [
    "total_mul_sum = 0\n",
    "working_string = memory_string\n",
    "action_enabled = True\n",
    "while len(working_string) > 0:\n",
    "    try:\n",
    "        do_index = working_string.index(\"do()\")\n",
    "    except:\n",
    "        do_index = len(working_string)\n",
    "\n",
    "    try:\n",
    "        dont_index = working_string.index(\"don't()\")\n",
    "    except:\n",
    "        dont_index = len(working_string)\n",
    "\n",
    "    try:\n",
    "        mul_match = re.search(\"mul\\(\\d+,\\d+\\)\", working_string)\n",
    "        mul_index = mul_match.start()\n",
    "    except:\n",
    "        break\n",
    "\n",
    "    if min(*[do_index, dont_index, mul_index]) == do_index:\n",
    "        action_enabled = True\n",
    "        working_string = working_string[do_index+len(\"do()\"):]\n",
    "    \n",
    "    elif min(*[do_index, dont_index, mul_index]) == dont_index:\n",
    "        action_enabled = False\n",
    "        working_string = working_string[dont_index+len(\"don't()\"):]\n",
    "\n",
    "    else:\n",
    "        match_list = mul_match.group(0).removeprefix(\"mul(\").removesuffix(\")\").split(\",\")\n",
    "        a = int(match_list[0])\n",
    "        b = int(match_list[1])\n",
    "        if action_enabled and a < 1000 and b < 1000:\n",
    "            total_mul_sum += a*b\n",
    "\n",
    "        working_string = working_string[mul_match.end()-1:]\n",
    "\n",
    "    print(f\"\\r{len(working_string)}\", end=\"\")\n",
    "\n",
    "print(f\"\\n{total_mul_sum}\")"
   ]
  }
 ],
 "metadata": {
  "kernelspec": {
   "display_name": "Python 3",
   "language": "python",
   "name": "python3"
  },
  "language_info": {
   "codemirror_mode": {
    "name": "ipython",
    "version": 3
   },
   "file_extension": ".py",
   "mimetype": "text/x-python",
   "name": "python",
   "nbconvert_exporter": "python",
   "pygments_lexer": "ipython3",
   "version": "3.10.2"
  }
 },
 "nbformat": 4,
 "nbformat_minor": 2
}
