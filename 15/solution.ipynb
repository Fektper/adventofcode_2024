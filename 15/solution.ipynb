{
 "cells": [
  {
   "cell_type": "markdown",
   "metadata": {},
   "source": [
    "#### Task 1"
   ]
  },
  {
   "cell_type": "code",
   "execution_count": 1,
   "metadata": {},
   "outputs": [],
   "source": [
    "field = []\n",
    "moves = []\n",
    "robot_start_pos = (0, 0)\n",
    "\n",
    "with open(\"input.txt\", \"r\") as in_file:\n",
    "    line = in_file.readline().strip()\n",
    "    y = 0\n",
    "    while line != \"\":\n",
    "        field.append(list(line))\n",
    "        if \"@\" in line:\n",
    "            robot_start_pos = (line.index(\"@\"), y)\n",
    "            field[len(field) - 1][line.index(\"@\")] = \".\"\n",
    "        y = y+1\n",
    "        line = in_file.readline().strip()\n",
    "\n",
    "    line = in_file.readline().strip()\n",
    "    while line != \"\":\n",
    "        for move in line:\n",
    "            moves.append(move)\n",
    "\n",
    "        line = in_file.readline().strip()"
   ]
  },
  {
   "cell_type": "code",
   "execution_count": 2,
   "metadata": {},
   "outputs": [],
   "source": [
    "def in_range(pos, field):\n",
    "    if pos[0] < 0 or pos[0] >= len(field[0]):\n",
    "        return False\n",
    "\n",
    "    if pos[1] < 0 or pos[1] >= len(field):\n",
    "        return False\n",
    "\n",
    "    return True\n",
    "\n",
    "def next_position(start, direction):\n",
    "    return [start[i] + direction[i] for i in range(len(start))]\n",
    "\n",
    "def get_value(pos, field):\n",
    "    return field[pos[1]][pos[0]]\n",
    "\n",
    "def first_free_position(start, direction, field):\n",
    "    current_pos = next_position(start, direction)\n",
    "    while in_range(current_pos, field):\n",
    "        if get_value(current_pos, field) == \"#\":\n",
    "            return None\n",
    "        if get_value(current_pos, field) == \".\":\n",
    "            return current_pos\n",
    "        \n",
    "        current_pos = next_position(current_pos, direction)\n",
    "\n",
    "    return None\n",
    "        \n",
    "\n",
    "def instruction_to_direction(instruction):\n",
    "    return {\n",
    "        \"^\": [0, -1],\n",
    "        \"v\": [0, 1],\n",
    "        \"<\": [-1, 0],\n",
    "        \">\": [1, 0]\n",
    "    }[instruction]\n",
    "\n",
    "def push(first_moved, direction, field): # There must be a empty space guaranteed\n",
    "    current_pos = first_moved\n",
    "    next_pos = next_position(current_pos, direction)\n",
    "    current_element = get_value(current_pos, field)\n",
    "    next_element = get_value(next_pos, field)\n",
    "\n",
    "    while next_element != \".\":\n",
    "        field[next_pos[1]][next_pos[0]] = current_element\n",
    "\n",
    "        current_pos = next_pos\n",
    "        current_element = next_element\n",
    "        next_pos = next_position(current_pos, direction)\n",
    "        next_element = get_value(next_pos, field)\n",
    "        \n",
    "    field[next_pos[1]][next_pos[0]] = current_element\n",
    "    return\n",
    "\n",
    "\n",
    "def calculate_gps(field):\n",
    "    total = 0\n",
    "    for x in range(len(field[0])):\n",
    "        for y in range(len(field)):\n",
    "            if field[y][x] == \"O\":\n",
    "                total += 100*y + x\n",
    "\n",
    "    return total\n",
    "\n",
    "def print_field(field, robot_pos):\n",
    "    res_string = \"\"\n",
    "    for i, line in enumerate(field):\n",
    "        if robot_pos[1] == i:\n",
    "            line = [x for x in line]\n",
    "            line[robot_pos[0]] = \"@\"\n",
    "        line = \"\".join(line)\n",
    "        res_string += line + \"\\n\"\n",
    "\n",
    "    return res_string"
   ]
  },
  {
   "cell_type": "code",
   "execution_count": 3,
   "metadata": {},
   "outputs": [
    {
     "name": "stdout",
     "output_type": "stream",
     "text": [
      "1497888\n"
     ]
    }
   ],
   "source": [
    "robot_pos = robot_start_pos\n",
    "\n",
    "for move in moves:\n",
    "    direction = instruction_to_direction(move)\n",
    "    first_free = first_free_position(robot_pos, direction, field)\n",
    "    if first_free is None:\n",
    "        pass\n",
    "    else:\n",
    "        if first_free != next_position(robot_pos, direction):\n",
    "\n",
    "            push(next_position(robot_pos, direction), direction, field)\n",
    "        \n",
    "        \n",
    "        robot_pos = next_position(robot_pos, direction)\n",
    "        field[robot_pos[1]][robot_pos[0]] = \".\"\n",
    "\n",
    "    \n",
    "# print(print_field(field, robot_pos))\n",
    "print(calculate_gps(field))"
   ]
  },
  {
   "cell_type": "markdown",
   "metadata": {},
   "source": [
    "#### Task 2"
   ]
  },
  {
   "cell_type": "code",
   "execution_count": null,
   "metadata": {},
   "outputs": [],
   "source": []
  },
  {
   "cell_type": "code",
   "execution_count": null,
   "metadata": {},
   "outputs": [],
   "source": []
  }
 ],
 "metadata": {
  "kernelspec": {
   "display_name": "Python 3",
   "language": "python",
   "name": "python3"
  },
  "language_info": {
   "codemirror_mode": {
    "name": "ipython",
    "version": 3
   },
   "file_extension": ".py",
   "mimetype": "text/x-python",
   "name": "python",
   "nbconvert_exporter": "python",
   "pygments_lexer": "ipython3",
   "version": "3.10.2"
  }
 },
 "nbformat": 4,
 "nbformat_minor": 2
}
