{
 "cells": [
  {
   "cell_type": "markdown",
   "metadata": {},
   "source": [
    "#### Task 1"
   ]
  },
  {
   "cell_type": "code",
   "execution_count": 6,
   "metadata": {},
   "outputs": [],
   "source": [
    "with open(\"input.txt\", \"r\") as in_file:\n",
    "    all_data = list(map(lambda x: int(x), list(in_file.readline().strip())))"
   ]
  },
  {
   "cell_type": "code",
   "execution_count": 7,
   "metadata": {},
   "outputs": [],
   "source": [
    "def checksum(data):\n",
    "    total = 0\n",
    "    for i in range(len(data)):\n",
    "        if data[i] == -1:\n",
    "            continue\n",
    "        total += data[i] * i\n",
    "\n",
    "    return total"
   ]
  },
  {
   "cell_type": "code",
   "execution_count": 8,
   "metadata": {},
   "outputs": [],
   "source": [
    "total_length = sum(all_data)\n",
    "data_array = [-1 for i in range(total_length)]\n",
    "\n",
    "current_index = 0\n",
    "for i in range(len(all_data)):\n",
    "    block_index = i // 2\n",
    "    length = all_data[i]\n",
    "\n",
    "    if i%2 == 0:\n",
    "        for j in range(length):\n",
    "            data_array[current_index + j] = block_index\n",
    "\n",
    "\n",
    "    current_index += length"
   ]
  },
  {
   "cell_type": "code",
   "execution_count": 9,
   "metadata": {},
   "outputs": [],
   "source": [
    "back_index = len(data_array) - 1\n",
    "insert_index = data_array.index(-1)\n",
    "\n",
    "while insert_index < back_index:\n",
    "    if data_array[back_index] == -1:\n",
    "        back_index -= 1\n",
    "        continue\n",
    "\n",
    "    data_array[insert_index] = data_array[back_index]\n",
    "    data_array[back_index] = -1\n",
    "    insert_index = data_array.index(-1)\n",
    "    back_index -= 1"
   ]
  },
  {
   "cell_type": "code",
   "execution_count": 10,
   "metadata": {},
   "outputs": [
    {
     "data": {
      "text/plain": [
       "6307275788409"
      ]
     },
     "execution_count": 10,
     "metadata": {},
     "output_type": "execute_result"
    }
   ],
   "source": [
    "checksum(data_array)"
   ]
  },
  {
   "cell_type": "markdown",
   "metadata": {},
   "source": [
    "#### Task 2"
   ]
  },
  {
   "cell_type": "code",
   "execution_count": 11,
   "metadata": {},
   "outputs": [],
   "source": [
    "from dataclasses import dataclass\n",
    "@dataclass\n",
    "class Block:\n",
    "    index: int\n",
    "    size: int\n",
    "\n",
    "@dataclass\n",
    "class Gap:\n",
    "    size: int\n"
   ]
  },
  {
   "cell_type": "code",
   "execution_count": 12,
   "metadata": {},
   "outputs": [],
   "source": [
    "def first_fit_index(size: int, gaps: list[Gap]) -> int:\n",
    "    for i, gap in enumerate(gaps):\n",
    "        if gap.size >= size:\n",
    "            return i\n",
    "        \n",
    "    return None"
   ]
  },
  {
   "cell_type": "code",
   "execution_count": 13,
   "metadata": {},
   "outputs": [],
   "source": [
    "with open(\"input.txt\", \"r\") as in_file:\n",
    "    all_data = list(map(lambda x: int(x), list(in_file.readline().strip())))"
   ]
  },
  {
   "cell_type": "code",
   "execution_count": 14,
   "metadata": {},
   "outputs": [],
   "source": [
    "data_blocks: list[list[Block]] = []\n",
    "gap_blocks: list[Gap] = []\n",
    "\n",
    "for i, size in enumerate(all_data):\n",
    "    if i % 2 == 0:\n",
    "        data_block = Block(i//2, size)\n",
    "        data_blocks.append([data_block])\n",
    "    else:\n",
    "        gap_blocks.append(Gap(size))\n"
   ]
  },
  {
   "cell_type": "code",
   "execution_count": 15,
   "metadata": {},
   "outputs": [],
   "source": [
    "for block_index in range(len(data_blocks)-1, -1, -1):\n",
    "    for sub_block_index in range(len(data_blocks[block_index])-1, -1, -1):\n",
    "        block = data_blocks[block_index][sub_block_index]\n",
    "        new_index = first_fit_index(block.size, gap_blocks)\n",
    "        if new_index is None or new_index >= block_index:\n",
    "            continue\n",
    "        else:\n",
    "            gap_blocks[new_index].size -= block.size\n",
    "            data_blocks[new_index].append(block)\n",
    "            # data_blocks[block_index].remove(block)\n",
    "            data_blocks[block_index][sub_block_index] = Gap(block.size)"
   ]
  },
  {
   "cell_type": "code",
   "execution_count": 16,
   "metadata": {},
   "outputs": [
    {
     "name": "stdout",
     "output_type": "stream",
     "text": [
      "6327174563252\n"
     ]
    }
   ],
   "source": [
    "total_sum = 0\n",
    "position_index = 0\n",
    "\n",
    "for i in range(len(data_blocks)):\n",
    "    for j in range(len(data_blocks[i])):\n",
    "        for k in range(data_blocks[i][j].size):\n",
    "            if isinstance(data_blocks[i][j], Block):\n",
    "                total_sum += data_blocks[i][j].index * position_index\n",
    "\n",
    "            position_index += 1\n",
    "\n",
    "    if len(gap_blocks) > i:\n",
    "        position_index += gap_blocks[i].size\n",
    "\n",
    "print(total_sum)"
   ]
  },
  {
   "cell_type": "code",
   "execution_count": 41,
   "metadata": {},
   "outputs": [
    {
     "name": "stdout",
     "output_type": "stream",
     "text": [
      "00992111777.44.333....5555.6666.....8888..\n"
     ]
    }
   ],
   "source": [
    "all = []\n",
    "for i in range(len(data_blocks)):\n",
    "    for block in data_blocks[i]:\n",
    "        for j in range(block.size):\n",
    "            if isinstance(block, Block):\n",
    "                all.append(str(block.index))\n",
    "            else:\n",
    "                all.append(\".\")\n",
    "\n",
    "    if len(gap_blocks) > i:\n",
    "\n",
    "        for j in range(gap_blocks[i].size):\n",
    "            all.append(\".\")\n",
    "\n",
    "\n",
    "print(\"\".join(all))"
   ]
  }
 ],
 "metadata": {
  "kernelspec": {
   "display_name": "Python 3",
   "language": "python",
   "name": "python3"
  },
  "language_info": {
   "codemirror_mode": {
    "name": "ipython",
    "version": 3
   },
   "file_extension": ".py",
   "mimetype": "text/x-python",
   "name": "python",
   "nbconvert_exporter": "python",
   "pygments_lexer": "ipython3",
   "version": "3.10.2"
  }
 },
 "nbformat": 4,
 "nbformat_minor": 2
}
