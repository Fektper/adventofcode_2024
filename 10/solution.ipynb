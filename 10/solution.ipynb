{
 "cells": [
  {
   "cell_type": "markdown",
   "metadata": {},
   "source": [
    "#### Task 1"
   ]
  },
  {
   "cell_type": "code",
   "execution_count": 17,
   "metadata": {},
   "outputs": [],
   "source": [
    "world_map = []\n",
    "with open(\"test_input.txt\", \"r\") as in_file:\n",
    "    for line in in_file.readlines():\n",
    "        candidate_list = list(map(lambda x: int(x), line.strip()))\n",
    "        if len(candidate_list) >= 1:\n",
    "            world_map.append(candidate_list)"
   ]
  },
  {
   "cell_type": "code",
   "execution_count": 18,
   "metadata": {},
   "outputs": [],
   "source": [
    "def get_value(pos, grid):\n",
    "    return grid[pos[1]][pos[0]]\n",
    "\n",
    "def in_range(pos, grid):\n",
    "    if pos[0] >= 0 and pos[0] < len(grid[0]):\n",
    "        if pos[1] >= 0 and pos[1] < len(grid):\n",
    "            return True\n",
    "        return False\n",
    "    return False\n",
    "\n",
    "def valid_neighbours(pos, grid):\n",
    "    candidates = [[pos[0] - 1, pos[1]], [pos[0] + 1, pos[1]], [pos[0], pos[1] - 1], [pos[0], pos[1] + 1]]\n",
    "    return [x for x in candidates if in_range(x, grid)]\n",
    "\n",
    "def get_possible_endings(value, current_pos, grid):\n",
    "    if value == 9:\n",
    "        return [current_pos]\n",
    "    \n",
    "    endings = []\n",
    "    for neighbour in valid_neighbours(current_pos, grid):\n",
    "        if get_value(neighbour, grid) == value +1:\n",
    "            for end in get_possible_endings(value+1, neighbour, grid):\n",
    "                endings.append(end)\n",
    "\n",
    "    return endings\n",
    "\n",
    "# def get_all_end_positions(start_pos, grid):\n",
    "#     get_possible_endings(0, start_pos, grid)"
   ]
  },
  {
   "cell_type": "code",
   "execution_count": 19,
   "metadata": {},
   "outputs": [],
   "source": [
    "start_positions = []\n",
    "for y in range(len(world_map)):\n",
    "    for x in range(len(world_map[y])):\n",
    "        if world_map[y][x] == 0:\n",
    "            start_positions.append((x, y))"
   ]
  },
  {
   "cell_type": "code",
   "execution_count": 20,
   "metadata": {},
   "outputs": [],
   "source": [
    "total_count = 0\n",
    "for start_pos in start_positions:\n",
    "    end_poss = get_possible_endings(0, start_pos, world_map)# get_all_end_positions(start_pos, world_map)\n",
    "    for i, pos in enumerate(end_poss):\n",
    "        if not pos in end_poss[i+1:]:\n",
    "            total_count += 1"
   ]
  },
  {
   "cell_type": "code",
   "execution_count": 21,
   "metadata": {},
   "outputs": [
    {
     "data": {
      "text/plain": [
       "652"
      ]
     },
     "execution_count": 21,
     "metadata": {},
     "output_type": "execute_result"
    }
   ],
   "source": [
    "total_count"
   ]
  },
  {
   "cell_type": "markdown",
   "metadata": {},
   "source": [
    "#### Task 2"
   ]
  },
  {
   "cell_type": "code",
   "execution_count": 24,
   "metadata": {},
   "outputs": [],
   "source": [
    "def get_paths(value, current_pos, grid):\n",
    "    if value == 9:\n",
    "        return [[current_pos]]\n",
    "    \n",
    "    paths = []\n",
    "    for neighbour in valid_neighbours(current_pos, grid):\n",
    "        if get_value(neighbour, grid) == value +1:\n",
    "            path_parts = get_paths(value + 1, neighbour, grid)\n",
    "\n",
    "            for path_part in path_parts:\n",
    "                paths.append([current_pos] + path_part)\n",
    "\n",
    "    return paths"
   ]
  },
  {
   "cell_type": "code",
   "execution_count": 23,
   "metadata": {},
   "outputs": [
    {
     "ename": "TypeError",
     "evalue": "'NoneType' object is not iterable",
     "output_type": "error",
     "traceback": [
      "\u001b[1;31m---------------------------------------------------------------------------\u001b[0m",
      "\u001b[1;31mTypeError\u001b[0m                                 Traceback (most recent call last)",
      "Cell \u001b[1;32mIn[23], line 3\u001b[0m\n\u001b[0;32m      1\u001b[0m total_count \u001b[38;5;241m=\u001b[39m \u001b[38;5;241m0\u001b[39m\n\u001b[0;32m      2\u001b[0m \u001b[38;5;28;01mfor\u001b[39;00m start_pos \u001b[38;5;129;01min\u001b[39;00m start_positions:\n\u001b[1;32m----> 3\u001b[0m     paths \u001b[38;5;241m=\u001b[39m \u001b[43mget_paths\u001b[49m\u001b[43m(\u001b[49m\u001b[38;5;241;43m0\u001b[39;49m\u001b[43m,\u001b[49m\u001b[43m \u001b[49m\u001b[43mstart_pos\u001b[49m\u001b[43m,\u001b[49m\u001b[43m \u001b[49m\u001b[43mworld_map\u001b[49m\u001b[43m)\u001b[49m\n\u001b[0;32m      4\u001b[0m     total_count \u001b[38;5;241m+\u001b[39m\u001b[38;5;241m=\u001b[39m \u001b[38;5;28mlen\u001b[39m(paths)\n\u001b[0;32m      6\u001b[0m \u001b[38;5;28mprint\u001b[39m(total_count)\n",
      "Cell \u001b[1;32mIn[22], line 10\u001b[0m, in \u001b[0;36mget_paths\u001b[1;34m(value, current_pos, grid)\u001b[0m\n\u001b[0;32m      7\u001b[0m \u001b[38;5;28;01mif\u001b[39;00m get_value(neighbour, grid) \u001b[38;5;241m==\u001b[39m value \u001b[38;5;241m+\u001b[39m\u001b[38;5;241m1\u001b[39m:\n\u001b[0;32m      8\u001b[0m     path_parts \u001b[38;5;241m=\u001b[39m get_paths(value \u001b[38;5;241m+\u001b[39m \u001b[38;5;241m1\u001b[39m, neighbour, grid)\n\u001b[1;32m---> 10\u001b[0m     \u001b[38;5;28;01mfor\u001b[39;00m path_part \u001b[38;5;129;01min\u001b[39;00m path_parts:\n\u001b[0;32m     11\u001b[0m         paths\u001b[38;5;241m.\u001b[39mappend([current_pos] \u001b[38;5;241m+\u001b[39m path_part)\n",
      "\u001b[1;31mTypeError\u001b[0m: 'NoneType' object is not iterable"
     ]
    }
   ],
   "source": [
    "total_count = 0\n",
    "for start_pos in start_positions:\n",
    "    paths = get_paths(0, start_pos, world_map)\n",
    "    total_count += len(paths)\n",
    "\n",
    "print(total_count)"
   ]
  }
 ],
 "metadata": {
  "kernelspec": {
   "display_name": "Python 3",
   "language": "python",
   "name": "python3"
  },
  "language_info": {
   "codemirror_mode": {
    "name": "ipython",
    "version": 3
   },
   "file_extension": ".py",
   "mimetype": "text/x-python",
   "name": "python",
   "nbconvert_exporter": "python",
   "pygments_lexer": "ipython3",
   "version": "3.10.2"
  }
 },
 "nbformat": 4,
 "nbformat_minor": 2
}
