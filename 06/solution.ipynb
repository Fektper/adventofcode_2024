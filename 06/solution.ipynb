{
 "cells": [
  {
   "cell_type": "markdown",
   "metadata": {},
   "source": [
    "#### Task 1"
   ]
  },
  {
   "cell_type": "code",
   "execution_count": 38,
   "metadata": {},
   "outputs": [],
   "source": [
    "guard_position = [0, 0]\n",
    "guard_direction = [0, -1] # up\n",
    "\n",
    "field:list[list[str]] = []\n",
    "\n",
    "with open(\"input.txt\", \"r\") as in_file:\n",
    "    for y, line in enumerate(in_file.readlines()):\n",
    "        if \"^\" in line:\n",
    "            guard_position = [line.index(\"^\"), y]\n",
    "            line = line.replace(\"^\", \"X\")\n",
    "        field.append(list(line.strip()))"
   ]
  },
  {
   "cell_type": "code",
   "execution_count": 39,
   "metadata": {},
   "outputs": [],
   "source": [
    "def set_field(pos, val=\"X\"):\n",
    "    field[pos[1]][pos[0]] = val\n",
    "\n",
    "def get_value(pos):\n",
    "    return field[pos[1]][pos[0]]\n",
    "\n",
    "def rotate_right(direction):\n",
    "    x = -direction[1]\n",
    "    y = direction[0]\n",
    "    return [x, y]\n",
    "\n",
    "def in_bounds(pos):\n",
    "    if pos[0] < 0 or pos[1] < 0:\n",
    "        return False\n",
    "    if pos[0] >= len(field[0]):\n",
    "        return False\n",
    "    if pos[1] >= len(field):\n",
    "        return False\n",
    "\n",
    "    return True\n",
    "\n",
    "def move_guard(position, direction):\n",
    "    next_position = [position[i] + direction[i] for i in range(2)]\n",
    "    if not in_bounds(next_position):\n",
    "        return next_position, direction\n",
    "\n",
    "    while in_bounds(next_position) and get_value(next_position) == \"#\":\n",
    "        direction = rotate_right(direction)\n",
    "        next_position = [position[i] + direction[i] for i in range(2)]\n",
    "    \n",
    "    set_field(next_position)\n",
    "    return next_position, direction"
   ]
  },
  {
   "cell_type": "code",
   "execution_count": 40,
   "metadata": {},
   "outputs": [
    {
     "name": "stdout",
     "output_type": "stream",
     "text": [
      "4973\n"
     ]
    }
   ],
   "source": [
    "while in_bounds(guard_position):\n",
    "    guard_position, guard_direction = move_guard(guard_position, guard_direction)\n",
    "\n",
    "total_path_amount = 0\n",
    "for row in field:\n",
    "    total_path_amount += row.count(\"X\")\n",
    "\n",
    "print(total_path_amount)"
   ]
  },
  {
   "cell_type": "markdown",
   "metadata": {},
   "source": [
    "#### Task 2"
   ]
  },
  {
   "cell_type": "code",
   "execution_count": 60,
   "metadata": {},
   "outputs": [],
   "source": [
    "initial_guard_position = [0, 0]\n",
    "initial_guard_direction = [0, -1] # up\n",
    "\n",
    "initial_field:list[list[str]] = []\n",
    "\n",
    "with open(\"input.txt\", \"r\") as in_file:\n",
    "    for y, line in enumerate(in_file.readlines()):\n",
    "        if \"^\" in line:\n",
    "            initial_guard_position = [line.index(\"^\"), y]\n",
    "            line = line.replace(\"^\", \"X\")\n",
    "        initial_field.append(list(line))"
   ]
  },
  {
   "cell_type": "code",
   "execution_count": 61,
   "metadata": {},
   "outputs": [],
   "source": [
    "def set_field(pos, val=\"X\"):\n",
    "    field[pos[1]][pos[0]] = val\n",
    "\n",
    "def get_value(pos):\n",
    "    return field[pos[1]][pos[0]]\n",
    "\n",
    "def rotate_right(direction):\n",
    "    x = -direction[1]\n",
    "    y = direction[0]\n",
    "    return [x, y]\n",
    "\n",
    "def in_bounds(pos):\n",
    "    if pos[0] < 0 or pos[1] < 0:\n",
    "        return False\n",
    "    if pos[0] >= len(field[0]):\n",
    "        return False\n",
    "    if pos[1] >= len(field):\n",
    "        return False\n",
    "\n",
    "    return True\n",
    "\n",
    "def move_guard(position, direction):\n",
    "    next_position = [position[i] + direction[i] for i in range(2)]\n",
    "    if not in_bounds(next_position):\n",
    "        return next_position, direction\n",
    "\n",
    "    while in_bounds(next_position) and get_value(next_position) == \"#\":\n",
    "        direction = rotate_right(direction)\n",
    "        next_position = [position[i] + direction[i] for i in range(2)]\n",
    "    \n",
    "    # set_field(next_position)\n",
    "    return next_position, direction\n",
    "\n",
    "def copy_field(in_field):\n",
    "    new_field = []\n",
    "    for row in in_field:\n",
    "        new_field.append([x for x in row])\n",
    "\n",
    "    return new_field"
   ]
  },
  {
   "cell_type": "code",
   "execution_count": 62,
   "metadata": {},
   "outputs": [
    {
     "name": "stdout",
     "output_type": "stream",
     "text": [
      "4973\n"
     ]
    }
   ],
   "source": [
    "# get candidate positions\n",
    "field = copy_field(initial_field)\n",
    "guard_position = initial_guard_position.copy()\n",
    "guard_direction = initial_guard_direction.copy()\n",
    "\n",
    "while in_bounds(guard_position):\n",
    "    guard_position, guard_direction = move_guard(guard_position, guard_direction)\n",
    "    if in_bounds(guard_position):\n",
    "        set_field(guard_position)\n",
    "\n",
    "candidate_positions = []\n",
    "for x in range(len(field[0])):\n",
    "    for y in range(len(field)):\n",
    "        if field[y][x] == \"X\":\n",
    "            candidate_positions.append([x, y])\n",
    "\n",
    "print(len(candidate_positions))"
   ]
  },
  {
   "cell_type": "code",
   "execution_count": 74,
   "metadata": {},
   "outputs": [
    {
     "name": "stdout",
     "output_type": "stream",
     "text": [
      "2740\n"
     ]
    }
   ],
   "source": [
    "loop_positions = 0\n",
    "for candidate_pos in candidate_positions:\n",
    "    # print(f\"\\r{candidate_pos}\", end=\"\")\n",
    "    field = copy_field(initial_field)\n",
    "    guard_position = initial_guard_position.copy()\n",
    "    guard_direction = initial_guard_direction.copy()\n",
    "\n",
    "    if all([guard_position[i] == candidate_pos[i] for i in range(2)]):\n",
    "        continue\n",
    "\n",
    "    field[candidate_pos[1]][candidate_pos[0]] = \"#\"\n",
    "\n",
    "    # check loop\n",
    "    while in_bounds(guard_position) :\n",
    "        guard_position, guard_direction = move_guard(guard_position, guard_direction)\n",
    "        if in_bounds(guard_position):\n",
    "            if get_value(guard_position) == \"X\":\n",
    "                next_position, next_direction = move_guard(guard_position, guard_direction)\n",
    "                if in_bounds(next_position) and not all([next_direction[i] == guard_direction[i] for i in range(2)]) and get_value(next_position) == \"X\":\n",
    "                    break\n",
    "            set_field(guard_position)\n",
    "\n",
    "    if in_bounds(guard_position) and get_value(guard_position) == \"X\":\n",
    "        loop_positions += 1\n",
    "\n",
    "print(loop_positions)\n"
   ]
  }
 ],
 "metadata": {
  "kernelspec": {
   "display_name": "Python 3",
   "language": "python",
   "name": "python3"
  },
  "language_info": {
   "codemirror_mode": {
    "name": "ipython",
    "version": 3
   },
   "file_extension": ".py",
   "mimetype": "text/x-python",
   "name": "python",
   "nbconvert_exporter": "python",
   "pygments_lexer": "ipython3",
   "version": "3.10.2"
  }
 },
 "nbformat": 4,
 "nbformat_minor": 2
}
