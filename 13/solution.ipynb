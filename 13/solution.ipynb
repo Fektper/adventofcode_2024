{
 "cells": [
  {
   "cell_type": "markdown",
   "metadata": {},
   "source": [
    "#### Task 1"
   ]
  },
  {
   "cell_type": "code",
   "execution_count": 1,
   "metadata": {},
   "outputs": [],
   "source": [
    "\n",
    "machines = []\n",
    "with open(\"input.txt\", \"r\") as in_file:\n",
    "    \n",
    "    while True:\n",
    "        line1 = in_file.readline().strip()\n",
    "        line2 = in_file.readline().strip()\n",
    "        line3 = in_file.readline().strip()\n",
    "\n",
    "        button_a = list(map(lambda x: int(x), line1.removeprefix(\"Button A: X\").replace(\"Y\", \"\").split(\",\")))\n",
    "        button_b = list(map(lambda x: int(x), line2.removeprefix(\"Button B: X\").replace(\"Y\", \"\").split(\",\")))\n",
    "        prize = list(map(lambda x: int(x), line3.removeprefix(\"Prize: X=\").replace(\"Y=\", \"\").split(\",\")))\n",
    "\n",
    "        machines.append((button_a, button_b, prize))\n",
    "\n",
    "        skip = in_file.readline()\n",
    "        if skip == \"\":\n",
    "            break\n",
    "        "
   ]
  },
  {
   "cell_type": "code",
   "execution_count": 2,
   "metadata": {},
   "outputs": [],
   "source": [
    "from typing import Union\n",
    "def vector_is_multiple(a, b): # only poisitive vectors!?\n",
    "    if a[0] == b[0] and a[1] == b[1]:\n",
    "        return 1\n",
    "    \n",
    "    if a[0] / b[0] == a[1] / b[1]:\n",
    "        if a[0] > b[0]:\n",
    "            return a[0] / b[0]\n",
    "        else:\n",
    "            return - b[0] / a[0]\n",
    "        \n",
    "    return 0\n",
    "\n",
    "def vector_multiply(a, fac):\n",
    "    return [x*fac for x in a]\n",
    "\n",
    "def vector_sum(a, b):\n",
    "    return [a[i] + b[i] for i in range(len(a))]\n",
    "    \n",
    "def proof_check(a, b, target, presses_a, presses_b) -> bool:\n",
    "    if int(presses_a) != presses_a:\n",
    "        return False\n",
    "    if int(presses_b) != presses_b:\n",
    "        return False\n",
    "    \n",
    "    if vector_sum(vector_multiply(a, presses_a), vector_multiply(b, presses_b)) != target:\n",
    "        return False\n",
    "    \n",
    "    return True\n",
    "\n",
    "def button_presses_needed(a, b, target) -> Union[tuple[int, int], None]: # assume all positive values!\n",
    "    if vector_is_multiple(a, b):\n",
    "        factor = vector_is_multiple(a, b)\n",
    "        if factor < 0:\n",
    "            # swap a and b\n",
    "            c = b\n",
    "            b = a\n",
    "            a = c\n",
    "            factor = -factor # unneccesary\n",
    "\n",
    "        # a is greater\n",
    "        presses_a = target[0] // a[0]\n",
    "        rest = target[0] % a[0]\n",
    "        presses_b = rest // b[0]\n",
    "        if proof_check(a, b, target, presses_a, presses_b):\n",
    "            return presses_a, presses_b\n",
    "        else:\n",
    "            return None\n",
    "        \n",
    "    # b = (y/y1 - x/x1) / (-x2/x1 + y2/y1)\n",
    "    # a = (x - b * x2) / x1\n",
    "\n",
    "    presses_b = round((target[1] / a[1] - target[0]/a[0]) / (-b[0]/a[0] + b[1]/a[1]))\n",
    "    presses_a = round((target[0] - presses_b * b[0]) / a[0])\n",
    "    if proof_check(a, b, target, presses_a, presses_b):\n",
    "        return presses_a, presses_b\n",
    "    else:\n",
    "        return None"
   ]
  },
  {
   "cell_type": "code",
   "execution_count": 3,
   "metadata": {},
   "outputs": [
    {
     "name": "stdout",
     "output_type": "stream",
     "text": [
      "36838\n"
     ]
    }
   ],
   "source": [
    "cost = 0\n",
    "for machine in machines:\n",
    "    presses = button_presses_needed(machine[0], machine[1], machine[2])\n",
    "    if presses is None:\n",
    "        continue\n",
    "    else:\n",
    "        cost += 3*presses[0] + presses[1]\n",
    "\n",
    "print(cost)"
   ]
  },
  {
   "cell_type": "markdown",
   "metadata": {},
   "source": [
    "#### Task 2"
   ]
  },
  {
   "cell_type": "code",
   "execution_count": 4,
   "metadata": {},
   "outputs": [],
   "source": [
    "machines = []\n",
    "with open(\"input.txt\", \"r\") as in_file:\n",
    "    \n",
    "    while True:\n",
    "        line1 = in_file.readline().strip()\n",
    "        line2 = in_file.readline().strip()\n",
    "        line3 = in_file.readline().strip()\n",
    "\n",
    "        button_a = list(map(lambda x: int(x), line1.removeprefix(\"Button A: X\").replace(\"Y\", \"\").split(\",\")))\n",
    "        button_b = list(map(lambda x: int(x), line2.removeprefix(\"Button B: X\").replace(\"Y\", \"\").split(\",\")))\n",
    "        prize = list(map(lambda x: int(x), line3.removeprefix(\"Prize: X=\").replace(\"Y=\", \"\").split(\",\")))\n",
    "        prize = vector_sum(prize, [10000000000000, 10000000000000])\n",
    "        machines.append((button_a, button_b, prize))\n",
    "\n",
    "        skip = in_file.readline()\n",
    "        if skip == \"\":\n",
    "            break"
   ]
  },
  {
   "cell_type": "code",
   "execution_count": 5,
   "metadata": {},
   "outputs": [
    {
     "name": "stdout",
     "output_type": "stream",
     "text": [
      "83029436920891\n"
     ]
    }
   ],
   "source": [
    "cost = 0\n",
    "for machine in machines:\n",
    "    presses = button_presses_needed(machine[0], machine[1], machine[2])\n",
    "    if presses is None:\n",
    "        continue\n",
    "    else:\n",
    "        cost += 3*presses[0] + presses[1]\n",
    "\n",
    "print(cost)"
   ]
  }
 ],
 "metadata": {
  "kernelspec": {
   "display_name": "Python 3",
   "language": "python",
   "name": "python3"
  },
  "language_info": {
   "codemirror_mode": {
    "name": "ipython",
    "version": 3
   },
   "file_extension": ".py",
   "mimetype": "text/x-python",
   "name": "python",
   "nbconvert_exporter": "python",
   "pygments_lexer": "ipython3",
   "version": "3.10.2"
  }
 },
 "nbformat": 4,
 "nbformat_minor": 2
}
