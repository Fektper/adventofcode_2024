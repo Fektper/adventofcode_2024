{
 "cells": [
  {
   "cell_type": "markdown",
   "metadata": {},
   "source": [
    "#### Task 1"
   ]
  },
  {
   "cell_type": "code",
   "execution_count": 29,
   "metadata": {},
   "outputs": [],
   "source": [
    "antennas = {}\n",
    "y_dim, x_dim = 0, 0\n",
    "with open(\"input.txt\", \"r\") as in_file:\n",
    "    for y, row in enumerate(in_file.readlines()):\n",
    "        y_dim = y + 1\n",
    "        row = row.strip()\n",
    "        for x, val in enumerate(row):\n",
    "            x_dim = x + 1\n",
    "            if val == \".\":\n",
    "                continue\n",
    "            elif val in antennas:\n",
    "                antennas[val].append([x, y])\n",
    "            else:\n",
    "                antennas[val] = [[x, y]]"
   ]
  },
  {
   "cell_type": "code",
   "execution_count": 30,
   "metadata": {},
   "outputs": [],
   "source": [
    "def add_pos(a, b):\n",
    "    return [a[i] + b[i] for i in range(len(a))]\n",
    "def sub_pos(a, b):\n",
    "    return [a[i] - b[i] for i in range(len(a))]\n",
    "def in_range(pos, x_dim=x_dim, y_dim=y_dim):\n",
    "    if pos[0] < 0 or pos[1] < 0:\n",
    "        return False\n",
    "    if pos[0] >= x_dim:\n",
    "        return False\n",
    "    if pos[1] >= y_dim:\n",
    "        return False\n",
    "    \n",
    "    return True"
   ]
  },
  {
   "cell_type": "code",
   "execution_count": 31,
   "metadata": {},
   "outputs": [
    {
     "name": "stdout",
     "output_type": "stream",
     "text": [
      "376\n"
     ]
    }
   ],
   "source": [
    "all_antinodes = []\n",
    "\n",
    "for key in antennas:\n",
    "    for i in range(len(antennas[key]) - 1):\n",
    "        for j in range(i+1, len(antennas[key])):\n",
    "            pos_a = antennas[key][i]\n",
    "            pos_b = antennas[key][j]\n",
    "\n",
    "            diff = sub_pos(pos_a, pos_b)\n",
    "\n",
    "            c1 = add_pos(pos_a, diff)\n",
    "            c2 = sub_pos(pos_b, diff)\n",
    "            if in_range(c1) and not c1 in all_antinodes:\n",
    "                all_antinodes.append(c1)\n",
    "\n",
    "            if in_range(c2) and not c2 in all_antinodes:\n",
    "                all_antinodes.append(c2) \n",
    "\n",
    "print(len(all_antinodes))"
   ]
  },
  {
   "cell_type": "markdown",
   "metadata": {},
   "source": [
    "#### Task 2"
   ]
  },
  {
   "cell_type": "code",
   "execution_count": 32,
   "metadata": {},
   "outputs": [],
   "source": [
    "antennas = {}\n",
    "y_dim, x_dim = 0, 0\n",
    "with open(\"input.txt\", \"r\") as in_file:\n",
    "    for y, row in enumerate(in_file.readlines()):\n",
    "        y_dim = y + 1\n",
    "        row = row.strip()\n",
    "        for x, val in enumerate(row):\n",
    "            x_dim = x + 1\n",
    "            if val == \".\":\n",
    "                continue\n",
    "            elif val in antennas:\n",
    "                antennas[val].append([x, y])\n",
    "            else:\n",
    "                antennas[val] = [[x, y]]"
   ]
  },
  {
   "cell_type": "code",
   "execution_count": 33,
   "metadata": {},
   "outputs": [
    {
     "name": "stdout",
     "output_type": "stream",
     "text": [
      "1352\n"
     ]
    }
   ],
   "source": [
    "all_antinodes = []\n",
    "\n",
    "for key in antennas:\n",
    "    for i in range(len(antennas[key]) - 1):\n",
    "        for j in range(i+1, len(antennas[key])):\n",
    "            pos_a = antennas[key][i]\n",
    "            pos_b = antennas[key][j]\n",
    "\n",
    "            if not pos_a in all_antinodes:\n",
    "                all_antinodes.append(pos_a)\n",
    "            if not pos_b in all_antinodes:\n",
    "                all_antinodes.append(pos_b)\n",
    "\n",
    "            diff = sub_pos(pos_a, pos_b)\n",
    "            # Go from a\n",
    "            next_pos = add_pos(pos_a, diff)\n",
    "            while in_range(next_pos):\n",
    "                if not next_pos in all_antinodes:\n",
    "                    all_antinodes.append(next_pos)\n",
    "                next_pos = add_pos(next_pos, diff)\n",
    "\n",
    "            # Go from b\n",
    "            next_pos = sub_pos(pos_b, diff)\n",
    "            while in_range(next_pos):\n",
    "                if not next_pos in all_antinodes:\n",
    "                    all_antinodes.append(next_pos)\n",
    "                next_pos = sub_pos(next_pos, diff)\n",
    "                \n",
    "print(len(all_antinodes))"
   ]
  },
  {
   "cell_type": "code",
   "execution_count": 23,
   "metadata": {},
   "outputs": [
    {
     "name": "stdout",
     "output_type": "stream",
     "text": [
      "[[8, 1], [5, 2], [11, 0], [2, 3], [7, 3], [6, 5], [5, 7], [4, 9], [3, 11], [2, 13], [1, 15], [0, 17], [4, 4], [0, 7], [3, 1], [1, 0], [9, 4], [11, 5], [13, 6], [15, 7], [17, 8], [19, 9], [21, 10], [23, 11], [25, 12], [27, 13], [29, 14], [31, 15], [33, 16], [35, 17], [37, 18], [39, 19], [41, 20], [43, 21], [45, 22], [47, 23], [49, 24], [6, 0], [3, 6], [2, 8], [1, 10], [0, 12], [10, 2], [13, 1], [16, 0], [1, 5], [8, 8], [4, 2], [10, 11], [12, 14], [14, 17], [16, 20], [18, 23], [20, 26], [22, 29], [24, 32], [26, 35], [28, 38], [30, 41], [32, 44], [34, 47], [9, 9], [12, 13], [15, 17], [18, 21], [21, 25], [24, 29], [27, 33], [30, 37], [33, 41], [36, 45], [39, 49], [7, 7], [6, 6], [5, 5], [3, 3], [2, 2], [1, 1], [0, 0], [10, 10], [11, 11], [12, 12], [13, 13], [14, 14], [15, 15], [16, 16], [17, 17], [18, 18], [19, 19], [20, 20], [21, 21], [22, 22], [23, 23], [24, 24], [25, 25], [26, 26], [27, 27], [28, 28], [29, 29], [30, 30], [31, 31], [32, 32], [33, 33], [34, 34], [35, 35], [36, 36], [37, 37], [38, 38], [39, 39], [40, 40], [41, 41], [42, 42], [43, 43], [44, 44], [45, 45], [46, 46], [47, 47], [48, 48], [49, 49]]\n"
     ]
    }
   ],
   "source": [
    "print(all_antinodes)"
   ]
  }
 ],
 "metadata": {
  "kernelspec": {
   "display_name": "Python 3",
   "language": "python",
   "name": "python3"
  },
  "language_info": {
   "codemirror_mode": {
    "name": "ipython",
    "version": 3
   },
   "file_extension": ".py",
   "mimetype": "text/x-python",
   "name": "python",
   "nbconvert_exporter": "python",
   "pygments_lexer": "ipython3",
   "version": "3.10.2"
  }
 },
 "nbformat": 4,
 "nbformat_minor": 2
}
